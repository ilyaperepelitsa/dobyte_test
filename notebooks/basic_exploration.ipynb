{
 "cells": [
  {
   "cell_type": "code",
   "execution_count": 34,
   "id": "37f046c8-0c0b-48fe-965a-18a605393a74",
   "metadata": {
    "execution": {
     "iopub.execute_input": "2025-07-21T22:16:47.283110Z",
     "iopub.status.busy": "2025-07-21T22:16:47.282929Z",
     "iopub.status.idle": "2025-07-21T22:16:47.292490Z",
     "shell.execute_reply": "2025-07-21T22:16:47.292010Z",
     "shell.execute_reply.started": "2025-07-21T22:16:47.283095Z"
    }
   },
   "outputs": [
    {
     "name": "stdout",
     "output_type": "stream",
     "text": [
      "The autoreload extension is already loaded. To reload it, use:\n",
      "  %reload_ext autoreload\n"
     ]
    }
   ],
   "source": [
    "\n",
    "from data.make_dataset import load_data\n",
    "from alphas.alpha import FutureLookupStrategy\n",
    "\n",
    "from alphas.performance import *\n",
    "\n",
    "import pandas as pd\n",
    "\n",
    "%load_ext autoreload\n",
    "%autoreload 2\n"
   ]
  },
  {
   "cell_type": "code",
   "execution_count": null,
   "id": "0aa0f658-b322-4dc2-9c2a-b9374c9f545b",
   "metadata": {},
   "outputs": [],
   "source": []
  },
  {
   "cell_type": "markdown",
   "id": "44c764cd-5def-4294-90ab-85df42925900",
   "metadata": {
    "execution": {
     "iopub.execute_input": "2025-07-21T22:11:55.710036Z",
     "iopub.status.busy": "2025-07-21T22:11:55.709806Z",
     "iopub.status.idle": "2025-07-21T22:11:55.717041Z",
     "shell.execute_reply": "2025-07-21T22:11:55.716629Z",
     "shell.execute_reply.started": "2025-07-21T22:11:55.710018Z"
    }
   },
   "source": [
    "## Generate basic strategy outputs"
   ]
  },
  {
   "cell_type": "markdown",
   "id": "cf095d7b-b285-4198-a437-ec3343c9ff2e",
   "metadata": {},
   "source": [
    "#### Load data"
   ]
  },
  {
   "cell_type": "code",
   "execution_count": 11,
   "id": "00e6ff67-77ad-4808-aac1-918dcfccdab6",
   "metadata": {
    "execution": {
     "iopub.execute_input": "2025-07-21T22:11:55.935864Z",
     "iopub.status.busy": "2025-07-21T22:11:55.935668Z",
     "iopub.status.idle": "2025-07-21T22:11:56.063759Z",
     "shell.execute_reply": "2025-07-21T22:11:56.063343Z",
     "shell.execute_reply.started": "2025-07-21T22:11:55.935848Z"
    }
   },
   "outputs": [],
   "source": [
    "timestamps, bids, asks = load_data()\n"
   ]
  },
  {
   "cell_type": "markdown",
   "id": "4f395799-5a00-4b82-a45e-d7c9e4c43f57",
   "metadata": {},
   "source": [
    "#### Data is one hour of non-equally spaced timestamps"
   ]
  },
  {
   "cell_type": "code",
   "execution_count": 12,
   "id": "c1e08231-e65c-4bb9-8020-72ed4d569cf7",
   "metadata": {
    "execution": {
     "iopub.execute_input": "2025-07-21T22:11:56.315391Z",
     "iopub.status.busy": "2025-07-21T22:11:56.315191Z",
     "iopub.status.idle": "2025-07-21T22:11:56.337842Z",
     "shell.execute_reply": "2025-07-21T22:11:56.337216Z",
     "shell.execute_reply.started": "2025-07-21T22:11:56.315375Z"
    }
   },
   "outputs": [
    {
     "data": {
      "text/plain": [
       "0       2021-02-16 17:06:42.018319\n",
       "1       2021-02-16 17:06:42.106023\n",
       "2       2021-02-16 17:06:42.191776\n",
       "3       2021-02-16 17:06:42.277234\n",
       "4       2021-02-16 17:06:42.367687\n",
       "                   ...            \n",
       "39968   2021-02-16 18:06:41.577112\n",
       "39969   2021-02-16 18:06:41.667519\n",
       "39970   2021-02-16 18:06:41.759223\n",
       "39971   2021-02-16 18:06:41.841185\n",
       "39972   2021-02-16 18:06:41.919707\n",
       "Length: 39973, dtype: datetime64[ns]"
      ]
     },
     "execution_count": 12,
     "metadata": {},
     "output_type": "execute_result"
    }
   ],
   "source": [
    "pd.Series(timestamps)"
   ]
  },
  {
   "cell_type": "markdown",
   "id": "be9da63d-ba2d-416b-9c96-c0df37f02133",
   "metadata": {},
   "source": [
    "#### Run basic strategy\n",
    "Looking up one value into the future.\n",
    "\n",
    "Mark to market variable contains the following. If we're holding a position - we're multiplying it by bid (what we would sell it for).\\\n",
    "If we're holding cash - we're adding cash to the holding. \n",
    "\n",
    "Weights are assuming we're not fully invested - some % of portfolio (even marginal) is held in cash."
   ]
  },
  {
   "cell_type": "code",
   "execution_count": 94,
   "id": "bb6abd75-de07-4568-a1bf-d4bf8ee3cdd1",
   "metadata": {
    "execution": {
     "iopub.execute_input": "2025-07-21T23:05:29.622948Z",
     "iopub.status.busy": "2025-07-21T23:05:29.622783Z",
     "iopub.status.idle": "2025-07-21T23:05:29.742902Z",
     "shell.execute_reply": "2025-07-21T23:05:29.742526Z",
     "shell.execute_reply.started": "2025-07-21T23:05:29.622934Z"
    }
   },
   "outputs": [
    {
     "name": "stdout",
     "output_type": "stream",
     "text": [
      "\n",
      "        Final cash value of portfolio 1.25\n",
      "\n",
      "        Starting number of instruments held 17.0\n",
      "\n",
      "        Final number of instruments held 22.0\n",
      "        \n",
      "    \n"
     ]
    },
    {
     "data": {
      "image/png": "[encoded data removed]",
      "text/plain": [
       "<Figure size 640x480 with 1 Axes>"
      ]
     },
     "metadata": {},
     "output_type": "display_data"
    }
   ],
   "source": [
    "strategy = FutureLookupStrategy(timestamps, bids, asks)\n",
    "final_cash = strategy.run()\n",
    "\n",
    "# Equity curve\n",
    "mark_to_market = [\n",
    "    pos * bid + cash\n",
    "    for pos, bid, cash in zip(strategy.positions, strategy.bid, strategy.cash_history)\n",
    "]\n",
    "weights = [\n",
    "    (pos * bid) / (pos * bid + cash)\n",
    "    for pos, bid, cash in zip(strategy.positions, strategy.bid, strategy.cash_history)\n",
    "]\n",
    "\n",
    "pd.Series(mark_to_market).plot()\n",
    "\n",
    "print(\n",
    "    f\"\"\"\n",
    "        Final cash value of portfolio {mark_to_market[-1]:.2f}\\n\n",
    "        Starting number of instruments held {list(filter(lambda x: x != 0, strategy.positions))[0]}\\n\n",
    "        Final number of instruments held {list(filter(lambda x: x != 0, strategy.positions))[-1]}\n",
    "        \n",
    "    \"\"\"\n",
    ")\n"
   ]
  },
  {
   "cell_type": "markdown",
   "id": "940984a4-4c32-4629-9f63-c2db41ec694b",
   "metadata": {},
   "source": [
    "## Calculate trading stats"
   ]
  },
  {
   "cell_type": "code",
   "execution_count": null,
   "id": "6748e2cf-ebf6-42cf-9398-6c0a95146b85",
   "metadata": {},
   "outputs": [],
   "source": [
    "returns = pd.Series(mark_to_market).pct_change()\n",
    "weights = pd.Series(weights)"
   ]
  },
  {
   "cell_type": "markdown",
   "id": "999e30c7-18ab-4273-87cf-40f0e9a8494d",
   "metadata": {
    "execution": {
     "iopub.execute_input": "2025-07-21T23:19:28.683894Z",
     "iopub.status.busy": "2025-07-21T23:19:28.683704Z",
     "iopub.status.idle": "2025-07-21T23:19:28.692582Z",
     "shell.execute_reply": "2025-07-21T23:19:28.691837Z",
     "shell.execute_reply.started": "2025-07-21T23:19:28.683879Z"
    }
   },
   "source": [
    "#### Calculate all stats\n",
    "\n",
    "- Returns are annualized assume no cumulative reinvestment\n",
    "- Turnover is in billions of times (frequently oscilate between 0 and ~100% weight in single instrument)\n",
    "- Hitrate is odd to be below 50% but also assuming we're setting weight to 0% a lot - quite reasonable to have 0% returns frequently\n",
    "- Sharpe, sortino and calmar are incredibly high as expected for biased strategy"
   ]
  },
  {
   "cell_type": "code",
   "execution_count": 104,
   "id": "611a6aa8-3475-4e6c-b8d0-969940079da9",
   "metadata": {
    "execution": {
     "iopub.execute_input": "2025-07-21T23:13:51.075531Z",
     "iopub.status.busy": "2025-07-21T23:13:51.075290Z",
     "iopub.status.idle": "2025-07-21T23:13:51.152280Z",
     "shell.execute_reply": "2025-07-21T23:13:51.151901Z",
     "shell.execute_reply.started": "2025-07-21T23:13:51.075510Z"
    }
   },
   "outputs": [],
   "source": [
    "sum_return = np.nansum(returns)\n",
    "total_periods = compute_effective_period_count(timestamps, target_period_length='1s')\n",
    "annualization = estimate_annualization_factor_unix(timestamps)\n",
    "\n",
    "ann_r = annualized_returns_linear(sum_return, total_periods, annualization)\n",
    "\n",
    "stats = {\n",
    "    \"Annualized return (linear)\": ann_r,\n",
    "    \"Annualized turnover (billion times)\": annualized_turnover(\n",
    "        np.nansum(np.abs(weights)),\n",
    "        total_periods,\n",
    "        freq=None,\n",
    "        annualization_factor=annualization\n",
    "    ) / 1e9,\n",
    "    \"Max drawdown\": max_drawdown(returns.fillna(0.0)),\n",
    "    \"Hit rate\": hit_rate(returns),\n",
    "    \"Portfolio efficiency\": naive_portfolio_efficiency(\n",
    "        returns,\n",
    "        weights,\n",
    "        timestamps=timestamps\n",
    "    ),\n",
    "    \"Annualized Sharpe\": annualized_sharpe(\n",
    "        returns, \n",
    "        annualization_factor=annualization\n",
    "    ),\n",
    "    \"Sortino ratio\": sortino_ratio(\n",
    "        returns.fillna(0.0), \n",
    "        annualization_factor=annualization\n",
    "    ),\n",
    "    \"Calmar ratio\": calmar_ratio(\n",
    "        returns.fillna(0.0), \n",
    "        annualization_factor=annualization,\n",
    "        timestamps=timestamps\n",
    "    ),\n",
    "}\n",
    "\n",
    "stats = {k: float(v) for k, v in stats.items()}\n",
    "\n"
   ]
  },
  {
   "cell_type": "markdown",
   "id": "88be37f5-d95d-4045-958e-1dcc9eb9d401",
   "metadata": {},
   "source": [
    "#### Stats are obviously abnormal - strategy allows for \"perfectly informed environment\""
   ]
  },
  {
   "cell_type": "code",
   "execution_count": 110,
   "id": "31e35c87-7283-4eae-990d-100f91728d1e",
   "metadata": {
    "execution": {
     "iopub.execute_input": "2025-07-21T23:16:19.715281Z",
     "iopub.status.busy": "2025-07-21T23:16:19.715101Z",
     "iopub.status.idle": "2025-07-21T23:16:19.723355Z",
     "shell.execute_reply": "2025-07-21T23:16:19.722936Z",
     "shell.execute_reply.started": "2025-07-21T23:16:19.715266Z"
    }
   },
   "outputs": [
    {
     "data": {
      "text/plain": [
       "{'Annualized return (linear)': 22115.60644696931,\n",
       " 'Annualized turnover (billion times)': 1.8893066468785364,\n",
       " 'Max drawdown': 0.005904089264369079,\n",
       " 'Hit rate': 0.13902231562093464,\n",
       " 'Portfolio efficiency': 1.1393969108547042,\n",
       " 'Annualized Sharpe': 1256.704938217669,\n",
       " 'Sortino ratio': 1881.2062759474718,\n",
       " 'Calmar ratio': 93.71088928685633}"
      ]
     },
     "execution_count": 110,
     "metadata": {},
     "output_type": "execute_result"
    }
   ],
   "source": [
    "stats"
   ]
  }
 ],
 "metadata": {
  "kernelspec": {
   "display_name": "dobyte_test",
   "language": "python",
   "name": "dobyte_test"
  },
  "language_info": {
   "codemirror_mode": {
    "name": "ipython",
    "version": 3
   },
   "file_extension": ".py",
   "mimetype": "text/x-python",
   "name": "python",
   "nbconvert_exporter": "python",
   "pygments_lexer": "ipython3",
   "version": "3.9.23"
  }
 },
 "nbformat": 4,
 "nbformat_minor": 5
}
