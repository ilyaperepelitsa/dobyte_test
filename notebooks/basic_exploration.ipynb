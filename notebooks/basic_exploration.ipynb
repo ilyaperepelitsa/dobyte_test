{
 "cells": [
  {
   "cell_type": "code",
   "execution_count": 1,
   "id": "37f046c8-0c0b-48fe-965a-18a605393a74",
   "metadata": {
    "execution": {
     "iopub.execute_input": "2025-07-22T23:34:03.390797Z",
     "iopub.status.busy": "2025-07-22T23:34:03.390636Z",
     "iopub.status.idle": "2025-07-22T23:34:03.803193Z",
     "shell.execute_reply": "2025-07-22T23:34:03.802886Z",
     "shell.execute_reply.started": "2025-07-22T23:34:03.390778Z"
    }
   },
   "outputs": [],
   "source": [
    "\n",
    "from data.make_dataset import load_data\n",
    "from alphas.alpha import FutureLookupStrategy\n",
    "from alphas.backtest import Backtester\n",
    "\n",
    "import pandas as pd\n",
    "import matplotlib.pyplot as plt\n",
    "\n",
    "from pprint import pprint     \n",
    "\n",
    "%load_ext autoreload\n",
    "%autoreload 2\n"
   ]
  },
  {
   "cell_type": "markdown",
   "id": "44c764cd-5def-4294-90ab-85df42925900",
   "metadata": {
    "execution": {
     "iopub.execute_input": "2025-07-21T22:11:55.710036Z",
     "iopub.status.busy": "2025-07-21T22:11:55.709806Z",
     "iopub.status.idle": "2025-07-21T22:11:55.717041Z",
     "shell.execute_reply": "2025-07-21T22:11:55.716629Z",
     "shell.execute_reply.started": "2025-07-21T22:11:55.710018Z"
    }
   },
   "source": [
    "## Generate basic strategy outputs"
   ]
  },
  {
   "cell_type": "markdown",
   "id": "cf095d7b-b285-4198-a437-ec3343c9ff2e",
   "metadata": {},
   "source": [
    "#### Load data"
   ]
  },
  {
   "cell_type": "code",
   "execution_count": 2,
   "id": "00e6ff67-77ad-4808-aac1-918dcfccdab6",
   "metadata": {
    "execution": {
     "iopub.execute_input": "2025-07-22T23:34:03.803653Z",
     "iopub.status.busy": "2025-07-22T23:34:03.803498Z",
     "iopub.status.idle": "2025-07-22T23:34:03.846237Z",
     "shell.execute_reply": "2025-07-22T23:34:03.845776Z",
     "shell.execute_reply.started": "2025-07-22T23:34:03.803642Z"
    }
   },
   "outputs": [],
   "source": [
    "TS, BIDS, ASKS = load_data()\n"
   ]
  },
  {
   "cell_type": "markdown",
   "id": "4f395799-5a00-4b82-a45e-d7c9e4c43f57",
   "metadata": {},
   "source": [
    "#### Data is one hour of non-equally spaced timestamps"
   ]
  },
  {
   "cell_type": "code",
   "execution_count": 4,
   "id": "c1e08231-e65c-4bb9-8020-72ed4d569cf7",
   "metadata": {
    "execution": {
     "iopub.execute_input": "2025-07-22T23:34:08.573972Z",
     "iopub.status.busy": "2025-07-22T23:34:08.573792Z",
     "iopub.status.idle": "2025-07-22T23:34:08.595759Z",
     "shell.execute_reply": "2025-07-22T23:34:08.595347Z",
     "shell.execute_reply.started": "2025-07-22T23:34:08.573959Z"
    }
   },
   "outputs": [
    {
     "data": {
      "text/plain": [
       "0       2021-02-16 17:06:42.018319\n",
       "1       2021-02-16 17:06:42.106023\n",
       "2       2021-02-16 17:06:42.191776\n",
       "3       2021-02-16 17:06:42.277234\n",
       "4       2021-02-16 17:06:42.367687\n",
       "                   ...            \n",
       "39968   2021-02-16 18:06:41.577112\n",
       "39969   2021-02-16 18:06:41.667519\n",
       "39970   2021-02-16 18:06:41.759223\n",
       "39971   2021-02-16 18:06:41.841185\n",
       "39972   2021-02-16 18:06:41.919707\n",
       "Length: 39973, dtype: datetime64[ns]"
      ]
     },
     "execution_count": 4,
     "metadata": {},
     "output_type": "execute_result"
    }
   ],
   "source": [
    "pd.Series(TS)"
   ]
  },
  {
   "cell_type": "markdown",
   "id": "be9da63d-ba2d-416b-9c96-c0df37f02133",
   "metadata": {},
   "source": [
    "#### Run basic strategy\n",
    "Looking up one value into the future.\n",
    "\n",
    "Mark to market variable contains the following. If we're holding a position - we're multiplying it by bid (what we would sell it for).\\\n",
    "If we're holding cash - we're adding cash to the holding. \n",
    "\n",
    "Weights are assuming we're not fully invested - some % of portfolio (even marginal) is held in cash."
   ]
  },
  {
   "cell_type": "code",
   "execution_count": 5,
   "id": "bb6abd75-de07-4568-a1bf-d4bf8ee3cdd1",
   "metadata": {
    "execution": {
     "iopub.execute_input": "2025-07-22T23:34:11.175523Z",
     "iopub.status.busy": "2025-07-22T23:34:11.175341Z",
     "iopub.status.idle": "2025-07-22T23:34:11.380774Z",
     "shell.execute_reply": "2025-07-22T23:34:11.380421Z",
     "shell.execute_reply.started": "2025-07-22T23:34:11.175497Z"
    }
   },
   "outputs": [
    {
     "data": {
      "image/png": "[encoded data removed]",
      "text/plain": [
       "<Figure size 640x480 with 1 Axes>"
      ]
     },
     "metadata": {},
     "output_type": "display_data"
    },
    {
     "name": "stdout",
     "output_type": "stream",
     "text": [
      "\n",
      "        Final cash value of portfolio 1.25\n",
      "\n",
      "        First nonzero number of instruments held 17\n",
      "\n",
      "        Final nonzero number of instruments held 22\n",
      "        \n",
      "    \n"
     ]
    },
    {
     "name": "stderr",
     "output_type": "stream",
     "text": [
      "/tmp/ipykernel_402525/355960281.py:14: FutureWarning: Series.__getitem__ treating keys as positions is deprecated. In a future version, integer keys will always be treated as labels (consistent with DataFrame behavior). To access a value by position, use `ser.iloc[pos]`\n",
      "  Final cash value of portfolio {engine.equity_curve()[-1]:.2f}\\n\n"
     ]
    }
   ],
   "source": [
    "engine = Backtester(TS, BIDS, ASKS, FutureLookupStrategy())\n",
    "engine.run()\n",
    "\n",
    "\n",
    "engine.equity_curve().plot()\n",
    "plt.title(\"Equity curve\")\n",
    "plt.ylabel(\"Portfolio value ($)\")\n",
    "plt.xlabel(\"Time\")\n",
    "plt.tight_layout()\n",
    "plt.show()\n",
    "\n",
    "print(\n",
    "    f\"\"\"\n",
    "        Final cash value of portfolio {engine.equity_curve()[-1]:.2f}\\n\n",
    "        First nonzero number of instruments held {list(filter(lambda x: x != 0, engine.positions))[0]}\\n\n",
    "        Final nonzero number of instruments held {list(filter(lambda x: x != 0, engine.positions))[-1]}\n",
    "        \n",
    "    \"\"\"\n",
    ")\n"
   ]
  },
  {
   "cell_type": "markdown",
   "id": "e13d57d0-0a68-4c9c-bf78-4c2afd5dd86f",
   "metadata": {},
   "source": [
    "#### Access equity curve"
   ]
  },
  {
   "cell_type": "code",
   "execution_count": 6,
   "id": "26df55c8-1b66-4576-b6c4-4abb4c02c92d",
   "metadata": {
    "execution": {
     "iopub.execute_input": "2025-07-22T23:34:21.925765Z",
     "iopub.status.busy": "2025-07-22T23:34:21.925601Z",
     "iopub.status.idle": "2025-07-22T23:34:21.957319Z",
     "shell.execute_reply": "2025-07-22T23:34:21.956921Z",
     "shell.execute_reply.started": "2025-07-22T23:34:21.925753Z"
    }
   },
   "outputs": [
    {
     "data": {
      "text/plain": [
       "2021-02-16 17:06:42.018319    1.000000\n",
       "2021-02-16 17:06:42.106023    1.000000\n",
       "2021-02-16 17:06:42.191776    1.000000\n",
       "2021-02-16 17:06:42.277234    1.000000\n",
       "2021-02-16 17:06:42.367687    1.000000\n",
       "                                ...   \n",
       "2021-02-16 18:06:41.577112    1.254468\n",
       "2021-02-16 18:06:41.667519    1.254798\n",
       "2021-02-16 18:06:41.759223    1.254314\n",
       "2021-02-16 18:06:41.841185    1.254908\n",
       "2021-02-16 18:06:41.919707    1.254820\n",
       "Length: 39973, dtype: float64"
      ]
     },
     "execution_count": 6,
     "metadata": {},
     "output_type": "execute_result"
    }
   ],
   "source": [
    "engine.equity_curve()"
   ]
  },
  {
   "cell_type": "markdown",
   "id": "0207bb5b-d78b-4a3c-9f8a-0461693cb6d1",
   "metadata": {
    "execution": {
     "iopub.execute_input": "2025-07-22T23:30:38.081193Z",
     "iopub.status.busy": "2025-07-22T23:30:38.081028Z",
     "iopub.status.idle": "2025-07-22T23:30:38.090201Z",
     "shell.execute_reply": "2025-07-22T23:30:38.089804Z",
     "shell.execute_reply.started": "2025-07-22T23:30:38.081179Z"
    }
   },
   "source": [
    "#### Access positions (number of instruments)"
   ]
  },
  {
   "cell_type": "code",
   "execution_count": 7,
   "id": "e8748ed1-b626-444a-955d-85b0e81142b1",
   "metadata": {
    "execution": {
     "iopub.execute_input": "2025-07-22T23:34:22.979481Z",
     "iopub.status.busy": "2025-07-22T23:34:22.979305Z",
     "iopub.status.idle": "2025-07-22T23:34:23.013739Z",
     "shell.execute_reply": "2025-07-22T23:34:23.013398Z",
     "shell.execute_reply.started": "2025-07-22T23:34:22.979467Z"
    }
   },
   "outputs": [
    {
     "data": {
      "text/plain": [
       "2021-02-16 17:06:42.018319     0\n",
       "2021-02-16 17:06:42.106023     0\n",
       "2021-02-16 17:06:42.191776     0\n",
       "2021-02-16 17:06:42.277234     0\n",
       "2021-02-16 17:06:42.367687     0\n",
       "                              ..\n",
       "2021-02-16 18:06:41.577112    22\n",
       "2021-02-16 18:06:41.667519    22\n",
       "2021-02-16 18:06:41.759223    22\n",
       "2021-02-16 18:06:41.841185    22\n",
       "2021-02-16 18:06:41.919707     0\n",
       "Length: 39973, dtype: int64"
      ]
     },
     "execution_count": 7,
     "metadata": {},
     "output_type": "execute_result"
    }
   ],
   "source": [
    "pd.Series(engine.positions, index=pd.to_datetime(TS[:len(engine.positions)]))"
   ]
  },
  {
   "cell_type": "markdown",
   "id": "940984a4-4c32-4629-9f63-c2db41ec694b",
   "metadata": {},
   "source": [
    "## Trading stats"
   ]
  },
  {
   "cell_type": "markdown",
   "id": "999e30c7-18ab-4273-87cf-40f0e9a8494d",
   "metadata": {
    "execution": {
     "iopub.execute_input": "2025-07-21T23:19:28.683894Z",
     "iopub.status.busy": "2025-07-21T23:19:28.683704Z",
     "iopub.status.idle": "2025-07-21T23:19:28.692582Z",
     "shell.execute_reply": "2025-07-21T23:19:28.691837Z",
     "shell.execute_reply.started": "2025-07-21T23:19:28.683879Z"
    }
   },
   "source": [
    "#### Print all stats\n",
    "\n",
    "- Returns are annualized assume no cumulative reinvestment\n",
    "- Turnover is in billions of times (frequently oscilate between 0 and ~100% weight in single instrument)\n",
    "- Hitrate is odd to be below 50% but also assuming we're setting weight to 0% a lot - quite reasonable to have 0% returns frequently\n",
    "- Sharpe, sortino and calmar are incredibly high as expected for biased strategy"
   ]
  },
  {
   "cell_type": "code",
   "execution_count": 8,
   "id": "611a6aa8-3475-4e6c-b8d0-969940079da9",
   "metadata": {
    "execution": {
     "iopub.execute_input": "2025-07-22T23:34:25.982661Z",
     "iopub.status.busy": "2025-07-22T23:34:25.982487Z",
     "iopub.status.idle": "2025-07-22T23:34:26.090822Z",
     "shell.execute_reply": "2025-07-22T23:34:26.090360Z",
     "shell.execute_reply.started": "2025-07-22T23:34:25.982648Z"
    }
   },
   "outputs": [
    {
     "name": "stdout",
     "output_type": "stream",
     "text": [
      "{'Annualized return (linear)': 24803.453197193317,\n",
      " 'Annualized turnover (billion times)': 1.8893066468785364,\n",
      " 'Max drawdown': 0.005904089264369079,\n",
      " 'Hit rate': 0.7060094016008132,\n",
      " 'Portfolio efficiency': 1.1390452487215796,\n",
      " 'Annualized Sharpe': 1256.288757567864,\n",
      " 'Sortino ratio': 1880.5743551860342,\n",
      " 'Calmar ratio': 93.67962283621549}\n"
     ]
    }
   ],
   "source": [
    "pprint(engine.stats(\"desc\"), compact=True, sort_dicts=False)\n",
    "# pprint(engine.stats(\"prog\"), compact=True, sort_dicts=False)"
   ]
  },
  {
   "cell_type": "code",
   "execution_count": null,
   "id": "75ca0d6e-0741-4591-83ba-9d9ccad70b78",
   "metadata": {},
   "outputs": [],
   "source": []
  }
 ],
 "metadata": {
  "kernelspec": {
   "display_name": "dobyte_test",
   "language": "python",
   "name": "dobyte_test"
  },
  "language_info": {
   "codemirror_mode": {
    "name": "ipython",
    "version": 3
   },
   "file_extension": ".py",
   "mimetype": "text/x-python",
   "name": "python",
   "nbconvert_exporter": "python",
   "pygments_lexer": "ipython3",
   "version": "3.9.23"
  }
 },
 "nbformat": 4,
 "nbformat_minor": 5
}
